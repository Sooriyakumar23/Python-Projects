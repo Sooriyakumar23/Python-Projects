{
  "nbformat": 4,
  "nbformat_minor": 0,
  "metadata": {
    "colab": {
      "provenance": []
    },
    "kernelspec": {
      "name": "python3",
      "display_name": "Python 3"
    },
    "language_info": {
      "name": "python"
    }
  },
  "cells": [
    {
      "cell_type": "code",
      "execution_count": 34,
      "metadata": {
        "id": "vMWp6-XlPv-7"
      },
      "outputs": [],
      "source": [
        "Array = [-2, 1, -3, 4, -1, 2, 1, -5, 3]"
      ]
    },
    {
      "cell_type": "markdown",
      "source": [
        "1) Maximum 4 numbers"
      ],
      "metadata": {
        "id": "5jq1D8mTQqwi"
      }
    },
    {
      "cell_type": "code",
      "source": [
        "def Max4Nums(a):\n",
        "  a1, a2, a3, a4 = a[0], a[1], a[2], a[3]\n",
        "  sub_array = [a1, a2, a3, a4]\n",
        "  sub_array = sorted(sub_array)\n",
        "  for i in range(4, len(a)):\n",
        "    if (a[i] >= sub_array[3]):\n",
        "      sub_array.insert(4, a[i])\n",
        "    elif (a[i] >= sub_array[2]):\n",
        "      sub_array.insert(3, a[i])\n",
        "    elif (a[i] >= sub_array[1]):\n",
        "      sub_array.insert(2, a[i])\n",
        "    elif (a[i] >= sub_array[0]):\n",
        "      sub_array.insert(1, a[i])\n",
        "    else :\n",
        "      continue\n",
        "    sub_array.pop(0)\n",
        "  return (sub_array)"
      ],
      "metadata": {
        "id": "VrrCoHreQqL1"
      },
      "execution_count": 37,
      "outputs": []
    },
    {
      "cell_type": "code",
      "source": [
        "print(Max4Nums(Array))"
      ],
      "metadata": {
        "colab": {
          "base_uri": "https://localhost:8080/"
        },
        "id": "axL2p6p4Q6Xd",
        "outputId": "080dce98-4a53-4abd-bbec-d45b7a21041b"
      },
      "execution_count": 38,
      "outputs": [
        {
          "output_type": "stream",
          "name": "stdout",
          "text": [
            "[1, 2, 3, 4]\n"
          ]
        }
      ]
    },
    {
      "cell_type": "markdown",
      "source": [
        "2) Maximum elemental sum"
      ],
      "metadata": {
        "id": "YeUfcm-WQvPh"
      }
    },
    {
      "cell_type": "code",
      "source": [
        "result = 0\n",
        "\n",
        "for i in Array:\n",
        "  if i > 0:\n",
        "    result += i\n",
        "\n",
        "print (\"Your result is: {result}\".format(result=result))"
      ],
      "metadata": {
        "colab": {
          "base_uri": "https://localhost:8080/"
        },
        "id": "RQRPOt7kQvoT",
        "outputId": "57fc4201-a440-4be0-e22f-7b7717370400"
      },
      "execution_count": 13,
      "outputs": [
        {
          "output_type": "stream",
          "name": "stdout",
          "text": [
            "Your result is: 12\n"
          ]
        }
      ]
    }
  ]
}
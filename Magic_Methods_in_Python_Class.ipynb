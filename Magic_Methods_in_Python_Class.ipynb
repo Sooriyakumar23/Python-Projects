{
  "nbformat": 4,
  "nbformat_minor": 0,
  "metadata": {
    "colab": {
      "provenance": []
    },
    "kernelspec": {
      "name": "python3",
      "display_name": "Python 3"
    },
    "language_info": {
      "name": "python"
    }
  },
  "cells": [
    {
      "cell_type": "markdown",
      "source": [
        "Default"
      ],
      "metadata": {
        "id": "z1uuUPMvG6kg"
      }
    },
    {
      "cell_type": "code",
      "execution_count": 86,
      "metadata": {
        "id": "rSqxkP5GFbFr"
      },
      "outputs": [],
      "source": [
        "class Person:\n",
        "  def __init__(self, name, age, degree):\n",
        "    self.name = name\n",
        "    self.age = age\n",
        "    self.degree = degree"
      ]
    },
    {
      "cell_type": "code",
      "source": [
        "p = Person(\"sooriya\", 100, \"BSc.(Hons) Engineering\")"
      ],
      "metadata": {
        "id": "5RWnHv6MGg4K"
      },
      "execution_count": 87,
      "outputs": []
    },
    {
      "cell_type": "code",
      "source": [
        "p"
      ],
      "metadata": {
        "colab": {
          "base_uri": "https://localhost:8080/"
        },
        "id": "_zuFG5ksGCJx",
        "outputId": "eb979b88-a69a-4309-ade9-f8620c8639d6"
      },
      "execution_count": 88,
      "outputs": [
        {
          "output_type": "execute_result",
          "data": {
            "text/plain": [
              "<__main__.Person at 0x7cba6ed9f7c0>"
            ]
          },
          "metadata": {},
          "execution_count": 88
        }
      ]
    },
    {
      "cell_type": "code",
      "source": [
        "print(p)"
      ],
      "metadata": {
        "colab": {
          "base_uri": "https://localhost:8080/"
        },
        "id": "Hsk835o9GFV_",
        "outputId": "b02ea806-0c74-4355-828f-4e3e5619e22f"
      },
      "execution_count": 89,
      "outputs": [
        {
          "output_type": "stream",
          "name": "stdout",
          "text": [
            "<__main__.Person object at 0x7cba6ed9f7c0>\n"
          ]
        }
      ]
    },
    {
      "cell_type": "code",
      "source": [
        "dir(p)"
      ],
      "metadata": {
        "colab": {
          "base_uri": "https://localhost:8080/"
        },
        "id": "gs9AVslfGG28",
        "outputId": "1ac160fe-6150-4dce-f9ea-4a8216b3e64f"
      },
      "execution_count": 90,
      "outputs": [
        {
          "output_type": "execute_result",
          "data": {
            "text/plain": [
              "['__class__',\n",
              " '__delattr__',\n",
              " '__dict__',\n",
              " '__dir__',\n",
              " '__doc__',\n",
              " '__eq__',\n",
              " '__format__',\n",
              " '__ge__',\n",
              " '__getattribute__',\n",
              " '__gt__',\n",
              " '__hash__',\n",
              " '__init__',\n",
              " '__init_subclass__',\n",
              " '__le__',\n",
              " '__lt__',\n",
              " '__module__',\n",
              " '__ne__',\n",
              " '__new__',\n",
              " '__reduce__',\n",
              " '__reduce_ex__',\n",
              " '__repr__',\n",
              " '__setattr__',\n",
              " '__sizeof__',\n",
              " '__str__',\n",
              " '__subclasshook__',\n",
              " '__weakref__',\n",
              " 'age',\n",
              " 'degree',\n",
              " 'name']"
            ]
          },
          "metadata": {},
          "execution_count": 90
        }
      ]
    },
    {
      "cell_type": "code",
      "source": [
        "print (p.__sizeof__())"
      ],
      "metadata": {
        "colab": {
          "base_uri": "https://localhost:8080/"
        },
        "id": "28L24VKrGKpe",
        "outputId": "6e0d3161-ba66-49f2-8dff-b8cac8e24e61"
      },
      "execution_count": 91,
      "outputs": [
        {
          "output_type": "stream",
          "name": "stdout",
          "text": [
            "32\n"
          ]
        }
      ]
    },
    {
      "cell_type": "code",
      "source": [
        "print (p.__str__())"
      ],
      "metadata": {
        "colab": {
          "base_uri": "https://localhost:8080/"
        },
        "id": "sBrJlwEjGYQ8",
        "outputId": "b16dc195-cdc6-4416-ab50-a8728d6e1453"
      },
      "execution_count": 92,
      "outputs": [
        {
          "output_type": "stream",
          "name": "stdout",
          "text": [
            "<__main__.Person object at 0x7cba6ed9f7c0>\n"
          ]
        }
      ]
    },
    {
      "cell_type": "markdown",
      "source": [
        "Override"
      ],
      "metadata": {
        "id": "NGsHk0AtHX63"
      }
    },
    {
      "cell_type": "code",
      "source": [
        "class Employee:\n",
        "  # def __new__(self, name, age, degree):\n",
        "  #   print (\"Your object is getting created.....\")\n",
        "  def __init__(self, name, age, degree):\n",
        "    self.name = name\n",
        "    self.age = age\n",
        "    self.degree = degree\n",
        "  def __sizeof__(self):\n",
        "    return (\"This return the size of the object\")\n",
        "  def __str__(self):\n",
        "    return (\"This is a string printted\")"
      ],
      "metadata": {
        "id": "7-z5w185G_8g"
      },
      "execution_count": 122,
      "outputs": []
    },
    {
      "cell_type": "code",
      "source": [
        "# q = Employee(\"kumar\", 10, \"Diploma in IT\")"
      ],
      "metadata": {
        "colab": {
          "base_uri": "https://localhost:8080/"
        },
        "id": "Zk0ST2VKImMu",
        "outputId": "85ddabb9-89e6-4199-9a62-658311d3b44c"
      },
      "execution_count": 114,
      "outputs": [
        {
          "output_type": "stream",
          "name": "stdout",
          "text": [
            "Your object is getting created.....\n"
          ]
        }
      ]
    },
    {
      "cell_type": "code",
      "source": [
        "q = Employee(\"kumar\", 10, \"Diploma in IT\")"
      ],
      "metadata": {
        "id": "ygTvqCy4LXw8"
      },
      "execution_count": 123,
      "outputs": []
    },
    {
      "cell_type": "code",
      "source": [
        "q.__sizeof__()"
      ],
      "metadata": {
        "colab": {
          "base_uri": "https://localhost:8080/",
          "height": 35
        },
        "id": "4RDhFv8XI7Ug",
        "outputId": "380f91f3-ac86-4703-e79e-f576cd612919"
      },
      "execution_count": 125,
      "outputs": [
        {
          "output_type": "execute_result",
          "data": {
            "text/plain": [
              "'This return the size of the object'"
            ],
            "application/vnd.google.colaboratory.intrinsic+json": {
              "type": "string"
            }
          },
          "metadata": {},
          "execution_count": 125
        }
      ]
    },
    {
      "cell_type": "code",
      "source": [
        "q.__str__()"
      ],
      "metadata": {
        "colab": {
          "base_uri": "https://localhost:8080/",
          "height": 35
        },
        "id": "VBWlkviuJb9l",
        "outputId": "5df4bb67-3ad9-4709-8696-39d88746d2a1"
      },
      "execution_count": 126,
      "outputs": [
        {
          "output_type": "execute_result",
          "data": {
            "text/plain": [
              "'This is a string printted'"
            ],
            "application/vnd.google.colaboratory.intrinsic+json": {
              "type": "string"
            }
          },
          "metadata": {},
          "execution_count": 126
        }
      ]
    },
    {
      "cell_type": "markdown",
      "source": [
        "* Note:\n",
        "  When we ovverride __new__ method then __sizeof__ & __str__ methods overriding won't work as expected (These works as by default implementation)"
      ],
      "metadata": {
        "id": "X6vpTRWoLplh"
      }
    }
  ]
}
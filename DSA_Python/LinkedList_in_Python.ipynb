{
  "nbformat": 4,
  "nbformat_minor": 0,
  "metadata": {
    "colab": {
      "provenance": []
    },
    "kernelspec": {
      "name": "python3",
      "display_name": "Python 3"
    },
    "language_info": {
      "name": "python"
    }
  },
  "cells": [
    {
      "cell_type": "markdown",
      "source": [
        "\"1\" -> \"2\" -> \"3\" -> \"4\" -> \"5\" -> None"
      ],
      "metadata": {
        "id": "XO8PETiMJzy3"
      }
    },
    {
      "cell_type": "code",
      "execution_count": 95,
      "metadata": {
        "id": "rcjsglCTJrb_"
      },
      "outputs": [],
      "source": [
        "class Node:\n",
        "  def __init__(self, value, ref=None):\n",
        "    self.value = value\n",
        "    self.ref = ref"
      ]
    },
    {
      "cell_type": "code",
      "source": [
        "class LinkedList:\n",
        "\n",
        "  def __init__(self):\n",
        "    self.head = None\n",
        "\n",
        "  def insertNode(self, value):\n",
        "    node = Node(value)\n",
        "    if (self.head == None):\n",
        "      self.head = node\n",
        "    else:\n",
        "      current = self.head\n",
        "      while (current.ref is not None):\n",
        "        current = current.ref\n",
        "      current.ref = node\n",
        "\n",
        "  def traversal(self):\n",
        "    if (self.head is None):\n",
        "      print (\"None\")\n",
        "    else:\n",
        "      current = self.head\n",
        "      while (current.ref is not None):\n",
        "        print (current.value)\n",
        "        current = current.ref\n",
        "      print (current.value)"
      ],
      "metadata": {
        "id": "7rMaYNb3KRCv"
      },
      "execution_count": 96,
      "outputs": []
    },
    {
      "cell_type": "code",
      "source": [
        "ll = LinkedList()"
      ],
      "metadata": {
        "id": "SccIqT5ULI9v"
      },
      "execution_count": 97,
      "outputs": []
    },
    {
      "cell_type": "code",
      "source": [
        "print(ll.head)"
      ],
      "metadata": {
        "colab": {
          "base_uri": "https://localhost:8080/"
        },
        "id": "CsV-VFf_LMVz",
        "outputId": "ffb1fec3-a62b-4789-e819-33119c3ed7bf"
      },
      "execution_count": 98,
      "outputs": [
        {
          "output_type": "stream",
          "name": "stdout",
          "text": [
            "None\n"
          ]
        }
      ]
    },
    {
      "cell_type": "code",
      "source": [
        "ll.insertNode(\"1\")\n",
        "ll.insertNode(\"2\")\n",
        "ll.insertNode(\"3\")\n",
        "ll.insertNode(\"4\")"
      ],
      "metadata": {
        "id": "C0fAcwgGLM2F"
      },
      "execution_count": 99,
      "outputs": []
    },
    {
      "cell_type": "code",
      "source": [
        "ll.traversal()"
      ],
      "metadata": {
        "colab": {
          "base_uri": "https://localhost:8080/"
        },
        "id": "OWfE-GECLTkG",
        "outputId": "84ab2643-5447-4250-d28c-987b95a1edd7"
      },
      "execution_count": 100,
      "outputs": [
        {
          "output_type": "stream",
          "name": "stdout",
          "text": [
            "1\n",
            "2\n",
            "3\n",
            "4\n"
          ]
        }
      ]
    },
    {
      "cell_type": "code",
      "source": [
        "ll.head.ref.ref.ref.value"
      ],
      "metadata": {
        "colab": {
          "base_uri": "https://localhost:8080/",
          "height": 35
        },
        "id": "d2PnUxEDOGFe",
        "outputId": "abfc0b3b-0cc9-46ab-efd5-c4e508065c3f"
      },
      "execution_count": 101,
      "outputs": [
        {
          "output_type": "execute_result",
          "data": {
            "text/plain": [
              "'4'"
            ],
            "application/vnd.google.colaboratory.intrinsic+json": {
              "type": "string"
            }
          },
          "metadata": {},
          "execution_count": 101
        }
      ]
    },
    {
      "cell_type": "code",
      "source": [
        "print (ll.head.ref.ref.ref.ref)"
      ],
      "metadata": {
        "colab": {
          "base_uri": "https://localhost:8080/"
        },
        "id": "UIL35ccAOHKO",
        "outputId": "8ccf44fd-8e1c-40a5-cee3-0a081a5d1867"
      },
      "execution_count": 102,
      "outputs": [
        {
          "output_type": "stream",
          "name": "stdout",
          "text": [
            "None\n"
          ]
        }
      ]
    }
  ]
}
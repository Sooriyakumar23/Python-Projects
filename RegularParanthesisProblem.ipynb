{
  "nbformat": 4,
  "nbformat_minor": 0,
  "metadata": {
    "colab": {
      "provenance": []
    },
    "kernelspec": {
      "name": "python3",
      "display_name": "Python 3"
    },
    "language_info": {
      "name": "python"
    }
  },
  "cells": [
    {
      "cell_type": "code",
      "execution_count": 1,
      "metadata": {
        "id": "d2Z1KQALXhOy"
      },
      "outputs": [],
      "source": [
        "para1 = '((()))'\n",
        "\n",
        "para2 = '((())()()(()))'\n",
        "\n",
        "para3 = '((())))'\n",
        "\n",
        "para4 = '(((())))((()))())((()))()'"
      ]
    },
    {
      "cell_type": "code",
      "source": [
        "def regular_paran(para):\n",
        "  result = 0\n",
        "  value_assigner = {'(':1, ')':-1}\n",
        "\n",
        "  for i, ele in enumerate(list(para)):\n",
        "    result += value_assigner[ele]\n",
        "    if result < 0:\n",
        "      break\n",
        "\n",
        "  if (i == len(para)-1 and result == 0):\n",
        "    print (True)\n",
        "  else:\n",
        "    print (False)"
      ],
      "metadata": {
        "id": "AJwQ-a0SZXBX"
      },
      "execution_count": 12,
      "outputs": []
    },
    {
      "cell_type": "code",
      "source": [
        "regular_paran(para1)"
      ],
      "metadata": {
        "colab": {
          "base_uri": "https://localhost:8080/"
        },
        "id": "KkdypqpjZv3j",
        "outputId": "0bab5cde-354a-468e-afc0-0e198849661c"
      },
      "execution_count": 13,
      "outputs": [
        {
          "output_type": "stream",
          "name": "stdout",
          "text": [
            "True\n"
          ]
        }
      ]
    },
    {
      "cell_type": "code",
      "source": [
        "regular_paran(para2)"
      ],
      "metadata": {
        "colab": {
          "base_uri": "https://localhost:8080/"
        },
        "id": "fDfrCgZbaOrF",
        "outputId": "7994701c-2cf4-4a7b-fc3a-0ee78013b9f7"
      },
      "execution_count": 14,
      "outputs": [
        {
          "output_type": "stream",
          "name": "stdout",
          "text": [
            "True\n"
          ]
        }
      ]
    },
    {
      "cell_type": "code",
      "source": [
        "regular_paran(para3)"
      ],
      "metadata": {
        "colab": {
          "base_uri": "https://localhost:8080/"
        },
        "id": "jNg_zO50arPL",
        "outputId": "b32f28b9-9a18-41fe-b279-847288d03d35"
      },
      "execution_count": 15,
      "outputs": [
        {
          "output_type": "stream",
          "name": "stdout",
          "text": [
            "False\n"
          ]
        }
      ]
    },
    {
      "cell_type": "code",
      "source": [
        "regular_paran(para4)"
      ],
      "metadata": {
        "colab": {
          "base_uri": "https://localhost:8080/"
        },
        "id": "Qc7EBCMvasD3",
        "outputId": "acffe897-f55a-4e7d-a2fd-de864b377505"
      },
      "execution_count": 17,
      "outputs": [
        {
          "output_type": "stream",
          "name": "stdout",
          "text": [
            "False\n"
          ]
        }
      ]
    }
  ]
}
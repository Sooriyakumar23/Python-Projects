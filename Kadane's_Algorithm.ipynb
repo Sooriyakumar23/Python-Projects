{
  "nbformat": 4,
  "nbformat_minor": 0,
  "metadata": {
    "colab": {
      "provenance": []
    },
    "kernelspec": {
      "name": "python3",
      "display_name": "Python 3"
    },
    "language_info": {
      "name": "python"
    }
  },
  "cells": [
    {
      "cell_type": "code",
      "execution_count": 7,
      "metadata": {
        "id": "vtiOEwoCiDNh"
      },
      "outputs": [],
      "source": [
        "array = [-3, 1, -8, 12, 0, -3, 5, -9, 4]"
      ]
    },
    {
      "cell_type": "markdown",
      "source": [
        "Method 1 - Brute Force"
      ],
      "metadata": {
        "id": "j2D6VDbtn1xS"
      }
    },
    {
      "cell_type": "code",
      "source": [
        "# Time Complexity = O(n^2)\n",
        "\n",
        "global_maximum = 0\n",
        "start_index = 0\n",
        "end_index = 0\n",
        "\n",
        "for i in range(len(array)):\n",
        "  local_maximum = 0\n",
        "  for j in range(i, len(array)):\n",
        "    local_maximum += array[j]\n",
        "    if (local_maximum > global_maximum):\n",
        "      global_maximum = local_maximum\n",
        "      start_index = i\n",
        "      end_index = j\n",
        "\n",
        "print (\"Maximum Sub Array:\", array[start_index:end_index+1], \"and Sum:\", global_maximum)"
      ],
      "metadata": {
        "colab": {
          "base_uri": "https://localhost:8080/"
        },
        "id": "A2g89Bm8nNGb",
        "outputId": "d95e3d0f-6d9c-4c97-af1f-88c3b6ddd922"
      },
      "execution_count": 47,
      "outputs": [
        {
          "output_type": "stream",
          "name": "stdout",
          "text": [
            "Maximum Sub Array: [12, 0, -3, 5] and Sum: 14\n"
          ]
        }
      ]
    },
    {
      "cell_type": "markdown",
      "source": [
        "Method 2 - Backwards Brute Force"
      ],
      "metadata": {
        "id": "t790v42An5Y1"
      }
    },
    {
      "cell_type": "code",
      "source": [
        "# Time Complexity = O(n^2)\n",
        "\n",
        "global_maximum = 0\n",
        "start_index = 0\n",
        "end_index = 0\n",
        "\n",
        "for i in range(len(array)):\n",
        "  local_maximum = 0\n",
        "  for j in range(i):\n",
        "    local_maximum += array[i-j]\n",
        "    if (local_maximum > global_maximum):\n",
        "      global_maximum = local_maximum\n",
        "      start_index = j\n",
        "      end_index = i\n",
        "\n",
        "print (\"Maximum Sub Array:\", array[start_index:end_index+1], \"and Sum:\", global_maximum)"
      ],
      "metadata": {
        "colab": {
          "base_uri": "https://localhost:8080/"
        },
        "id": "IEtULL7In8mC",
        "outputId": "53efd03b-039b-4c18-b540-91c44a435f03"
      },
      "execution_count": 62,
      "outputs": [
        {
          "output_type": "stream",
          "name": "stdout",
          "text": [
            "Maximum Sub Array: [12, 0, -3, 5] and Sum: 14\n"
          ]
        }
      ]
    },
    {
      "cell_type": "markdown",
      "source": [
        "Method 3 - Kadane's"
      ],
      "metadata": {
        "id": "NTfVXPBIn9J2"
      }
    },
    {
      "cell_type": "code",
      "source": [
        "# Time Complexity = O(n)\n",
        "# Space Complexity = O(n)\n",
        "\n",
        "duplicate_array = [0] * len(array)\n",
        "duplicate_array[0] = array[0]\n",
        "for i in range(1, len(array)):\n",
        "  if (duplicate_array[i-1] > 0):\n",
        "    duplicate_array[i] = array[i] + duplicate_array[i-1]\n",
        "  else:\n",
        "    duplicate_array[i] = array[i]\n",
        "\n",
        "print (duplicate_array)"
      ],
      "metadata": {
        "colab": {
          "base_uri": "https://localhost:8080/"
        },
        "id": "8Djd7hpqoEBc",
        "outputId": "4ea48df9-49a5-46ac-de82-c6baecac8854"
      },
      "execution_count": 38,
      "outputs": [
        {
          "output_type": "stream",
          "name": "stdout",
          "text": [
            "[-3, 1, -7, 12, 12, 9, 14, 5, 9]\n"
          ]
        }
      ]
    },
    {
      "cell_type": "code",
      "source": [
        "end_index = duplicate_array.index(max(duplicate_array))\n",
        "\n",
        "index = end_index\n",
        "result = max(duplicate_array)\n",
        "\n",
        "while (result > 0):\n",
        "  result -= array[index]\n",
        "  index -= 1\n",
        "\n",
        "start_index = index + 1"
      ],
      "metadata": {
        "id": "6vEbmnLKt2WV"
      },
      "execution_count": 42,
      "outputs": []
    },
    {
      "cell_type": "code",
      "source": [
        "print (\"Maximum Sub Array:\", array[start_index:end_index+1], \"and Sum:\", global_maximum)"
      ],
      "metadata": {
        "colab": {
          "base_uri": "https://localhost:8080/"
        },
        "id": "8NkTO_LRzNuW",
        "outputId": "bd631511-9761-4861-a5de-4470a3fb472a"
      },
      "execution_count": 43,
      "outputs": [
        {
          "output_type": "stream",
          "name": "stdout",
          "text": [
            "Maximum Sub Array: [12, 0, -3, 5] and Sum: 14\n"
          ]
        }
      ]
    }
  ]
}
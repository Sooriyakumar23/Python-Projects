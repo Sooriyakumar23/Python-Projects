{
  "nbformat": 4,
  "nbformat_minor": 0,
  "metadata": {
    "colab": {
      "provenance": []
    },
    "kernelspec": {
      "name": "python3",
      "display_name": "Python 3"
    },
    "language_info": {
      "name": "python"
    }
  },
  "cells": [
    {
      "cell_type": "markdown",
      "source": [
        "What is GCD ?\n",
        "  * GCD stands for Greatest Common Divisor is used to find the greatest divisible integer for any two or more numbers"
      ],
      "metadata": {
        "id": "YKOj1FxxQdX-"
      }
    },
    {
      "cell_type": "markdown",
      "source": [
        "Examples of GCD ?\n",
        "  * GCD(12, 18) = 6 ; 12 = 2 x 6, 18 = 3 x 6"
      ],
      "metadata": {
        "id": "Nr-dmSU5Q0L3"
      }
    },
    {
      "cell_type": "code",
      "execution_count": 1,
      "metadata": {
        "id": "DUc97b_cF6dP"
      },
      "outputs": [],
      "source": [
        "def gcd(a, b):\n",
        "  if (b == 0):\n",
        "    return a\n",
        "  else:\n",
        "    return (gcd(b, a%b))"
      ]
    },
    {
      "cell_type": "code",
      "source": [
        "gcd(18, 12)"
      ],
      "metadata": {
        "colab": {
          "base_uri": "https://localhost:8080/"
        },
        "id": "_nMP_6u0RMSx",
        "outputId": "a165613d-fcc5-458f-a2cc-cb634cca819b"
      },
      "execution_count": 3,
      "outputs": [
        {
          "output_type": "execute_result",
          "data": {
            "text/plain": [
              "6"
            ]
          },
          "metadata": {},
          "execution_count": 3
        }
      ]
    },
    {
      "cell_type": "code",
      "source": [
        "gcd(6, 12)"
      ],
      "metadata": {
        "colab": {
          "base_uri": "https://localhost:8080/"
        },
        "id": "OXrpP6Q3Rin5",
        "outputId": "90745455-9a7a-46d6-e7ad-483f88038383"
      },
      "execution_count": 12,
      "outputs": [
        {
          "output_type": "execute_result",
          "data": {
            "text/plain": [
              "6"
            ]
          },
          "metadata": {},
          "execution_count": 12
        }
      ]
    },
    {
      "cell_type": "code",
      "source": [
        "gcd(180, 140)"
      ],
      "metadata": {
        "colab": {
          "base_uri": "https://localhost:8080/"
        },
        "id": "8aZdI_lVRaXc",
        "outputId": "9f755337-3e16-4d9a-8323-cb61b91376f2"
      },
      "execution_count": 5,
      "outputs": [
        {
          "output_type": "execute_result",
          "data": {
            "text/plain": [
              "20"
            ]
          },
          "metadata": {},
          "execution_count": 5
        }
      ]
    }
  ]
}
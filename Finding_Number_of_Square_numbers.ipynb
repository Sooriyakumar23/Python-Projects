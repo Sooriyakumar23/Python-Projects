{
  "nbformat": 4,
  "nbformat_minor": 0,
  "metadata": {
    "colab": {
      "provenance": []
    },
    "kernelspec": {
      "name": "python3",
      "display_name": "Python 3"
    },
    "language_info": {
      "name": "python"
    }
  },
  "cells": [
    {
      "cell_type": "markdown",
      "source": [
        "Find the number of square numbers less than or equal to a specific number(n).\n",
        "\n",
        "* Square numbers = 1, 4, 9, 16, 25 ....."
      ],
      "metadata": {
        "id": "Y0muRp9MQNh1"
      }
    },
    {
      "cell_type": "markdown",
      "source": [
        "Method 1:"
      ],
      "metadata": {
        "id": "pZrdxfyMQn6i"
      }
    },
    {
      "cell_type": "code",
      "source": [
        "def method1(n):\n",
        "  root_value = n**0.5\n",
        "  return (int(root_value//1))"
      ],
      "metadata": {
        "id": "ipQ27GJ5Qjvq"
      },
      "execution_count": 21,
      "outputs": []
    },
    {
      "cell_type": "markdown",
      "source": [
        "Method 2:"
      ],
      "metadata": {
        "id": "er6gJMwsQpox"
      }
    },
    {
      "cell_type": "code",
      "source": [
        "def method2(n):\n",
        "  answer, i = 0, 1\n",
        "  while (i**2 <= n):\n",
        "    i += 1\n",
        "    answer += 1\n",
        "  return (answer)"
      ],
      "metadata": {
        "id": "H9p1leLLQrQ7"
      },
      "execution_count": 22,
      "outputs": []
    },
    {
      "cell_type": "markdown",
      "source": [
        "n = 10 => 1, 4, 9 => 3"
      ],
      "metadata": {
        "id": "p5wnuIKjQfJN"
      }
    },
    {
      "cell_type": "code",
      "source": [
        "print (method1(10))\n",
        "print (method2(10))"
      ],
      "metadata": {
        "colab": {
          "base_uri": "https://localhost:8080/"
        },
        "id": "Fp1J_GaCQN1L",
        "outputId": "fd8eaead-4dfd-46c6-9d45-cdabdcb1c6ec"
      },
      "execution_count": 23,
      "outputs": [
        {
          "output_type": "stream",
          "name": "stdout",
          "text": [
            "3\n",
            "3\n"
          ]
        }
      ]
    },
    {
      "cell_type": "markdown",
      "source": [
        "n = 16 => 1, 4, 9, 16 => 4"
      ],
      "metadata": {
        "id": "5vDHlZyBQhQy"
      }
    },
    {
      "cell_type": "code",
      "source": [
        "print (method1(16))\n",
        "print (method2(16))"
      ],
      "metadata": {
        "colab": {
          "base_uri": "https://localhost:8080/"
        },
        "id": "gfMSruNRQhgp",
        "outputId": "1d73695d-08e7-4e65-88cd-0e7aded4b050"
      },
      "execution_count": 24,
      "outputs": [
        {
          "output_type": "stream",
          "name": "stdout",
          "text": [
            "4\n",
            "4\n"
          ]
        }
      ]
    },
    {
      "cell_type": "markdown",
      "source": [
        "n = 25 => 1, 4, 9, 16, 25 => 5"
      ],
      "metadata": {
        "id": "fvL7RQ2cQh8C"
      }
    },
    {
      "cell_type": "code",
      "source": [
        "print (method1(25))\n",
        "print (method2(25))"
      ],
      "metadata": {
        "colab": {
          "base_uri": "https://localhost:8080/"
        },
        "id": "LiQpkJMnQiK6",
        "outputId": "8e4788e1-a8e2-47f1-b3a3-11e3295b8a6d"
      },
      "execution_count": 25,
      "outputs": [
        {
          "output_type": "stream",
          "name": "stdout",
          "text": [
            "5\n",
            "5\n"
          ]
        }
      ]
    },
    {
      "cell_type": "markdown",
      "source": [
        "n = 100 => 1, 4, 9, 16, 25, 36, 49, 64, 81, 100 => 10"
      ],
      "metadata": {
        "id": "pdeeYgGyQia5"
      }
    },
    {
      "cell_type": "code",
      "source": [
        "print (method1(100))\n",
        "print (method2(100))"
      ],
      "metadata": {
        "colab": {
          "base_uri": "https://localhost:8080/"
        },
        "id": "g_g5JHN8QipR",
        "outputId": "29a6be1f-9840-4fb3-b509-c15e1eda51e7"
      },
      "execution_count": 26,
      "outputs": [
        {
          "output_type": "stream",
          "name": "stdout",
          "text": [
            "10\n",
            "10\n"
          ]
        }
      ]
    },
    {
      "cell_type": "markdown",
      "source": [
        "n = 10,000 => 10,000 = 100 * 100 => 100"
      ],
      "metadata": {
        "id": "O5C_2ylTQi6W"
      }
    },
    {
      "cell_type": "code",
      "source": [
        "print (method1(10000))\n",
        "print (method2(10000))"
      ],
      "metadata": {
        "colab": {
          "base_uri": "https://localhost:8080/"
        },
        "id": "YS_pZLVCQjGJ",
        "outputId": "46edaed0-a537-4269-edf0-82bcf40c5d18"
      },
      "execution_count": 27,
      "outputs": [
        {
          "output_type": "stream",
          "name": "stdout",
          "text": [
            "100\n",
            "100\n"
          ]
        }
      ]
    }
  ]
}
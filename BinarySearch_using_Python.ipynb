{
  "nbformat": 4,
  "nbformat_minor": 0,
  "metadata": {
    "colab": {
      "provenance": []
    },
    "kernelspec": {
      "name": "python3",
      "display_name": "Python 3"
    },
    "language_info": {
      "name": "python"
    }
  },
  "cells": [
    {
      "cell_type": "markdown",
      "source": [
        "Binay search is an efficient searching mechanism when an array/list is **sorted**\n",
        "\n",
        "Time Complexity = O(n)\n"
      ],
      "metadata": {
        "id": "SjteGxZHVAa2"
      }
    },
    {
      "cell_type": "code",
      "source": [
        "li = [1, 2, 3, 4, 5, 6, 7, 8, 9, 10]\n",
        "ele1 = 5\n",
        "ele2 = 50"
      ],
      "metadata": {
        "id": "TImfYxOYU4bD"
      },
      "execution_count": 37,
      "outputs": []
    },
    {
      "cell_type": "code",
      "source": [
        "def binary_search(array, element):\n",
        "  print (array)\n",
        "  n = len(array) // 2\n",
        "  if (n == 0):\n",
        "    if (array[0] == element):\n",
        "      print (True)\n",
        "    else:\n",
        "      print (False)\n",
        "  elif (array[n] <= element):\n",
        "    binary_search(array[n:], element)\n",
        "  else:\n",
        "    binary_search(array[:n], element)"
      ],
      "metadata": {
        "id": "s2t29dCBVdU9"
      },
      "execution_count": 55,
      "outputs": []
    },
    {
      "cell_type": "code",
      "source": [
        "binary_search(li, ele1)"
      ],
      "metadata": {
        "colab": {
          "base_uri": "https://localhost:8080/"
        },
        "id": "C55SxB-cVr5R",
        "outputId": "b235e4c4-fa40-4c27-8e34-437af6aed674"
      },
      "execution_count": 56,
      "outputs": [
        {
          "output_type": "stream",
          "name": "stdout",
          "text": [
            "[1, 2, 3, 4, 5, 6, 7, 8, 9, 10]\n",
            "[1, 2, 3, 4, 5]\n",
            "[3, 4, 5]\n",
            "[4, 5]\n",
            "[5]\n",
            "True\n"
          ]
        }
      ]
    },
    {
      "cell_type": "code",
      "source": [
        "binary_search(li, ele2)"
      ],
      "metadata": {
        "colab": {
          "base_uri": "https://localhost:8080/"
        },
        "id": "7mGuClIIV_0d",
        "outputId": "4eb42ecb-d7a3-4795-b6e1-9c5b620aa25c"
      },
      "execution_count": 57,
      "outputs": [
        {
          "output_type": "stream",
          "name": "stdout",
          "text": [
            "[1, 2, 3, 4, 5, 6, 7, 8, 9, 10]\n",
            "[6, 7, 8, 9, 10]\n",
            "[8, 9, 10]\n",
            "[9, 10]\n",
            "[10]\n",
            "False\n"
          ]
        }
      ]
    }
  ]
}
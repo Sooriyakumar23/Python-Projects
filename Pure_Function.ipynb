{
  "nbformat": 4,
  "nbformat_minor": 0,
  "metadata": {
    "colab": {
      "provenance": []
    },
    "kernelspec": {
      "name": "python3",
      "display_name": "Python 3"
    },
    "language_info": {
      "name": "python"
    }
  },
  "cells": [
    {
      "cell_type": "markdown",
      "source": [
        "What is a function in software code ?"
      ],
      "metadata": {
        "id": "8fNWbcPrzo2X"
      }
    },
    {
      "cell_type": "markdown",
      "source": [
        "* Suppose we have somelines of code which is being repeatedly several times then can grasp those whole lines of code under a block with a name and just by calling that block name same lines of code get executed whenever we call that block name. This is really very useful for better efficient code."
      ],
      "metadata": {
        "id": "lTqNCuDw0SgZ"
      }
    },
    {
      "cell_type": "markdown",
      "source": [
        "What is a pure function in that ?"
      ],
      "metadata": {
        "id": "64ZpSsUL0eBp"
      }
    },
    {
      "cell_type": "markdown",
      "source": [
        "* Pure functions are the functions where no external variables are being used directly(only from input arguments) and will result same results anytime of call"
      ],
      "metadata": {
        "id": "e7jmhoAf0d3i"
      }
    },
    {
      "cell_type": "markdown",
      "source": [
        "This is not a pure function"
      ],
      "metadata": {
        "id": "tOL0z-1m2M32"
      }
    },
    {
      "cell_type": "code",
      "execution_count": 5,
      "metadata": {
        "colab": {
          "base_uri": "https://localhost:8080/"
        },
        "id": "8hSgrrp2PQiG",
        "outputId": "f8dd0693-13b0-4c2d-ec99-4b3732447a0c"
      },
      "outputs": [
        {
          "output_type": "stream",
          "name": "stdout",
          "text": [
            "[1, 2, 3, 4]\n",
            "[1, 2, 3, 4, 4]\n",
            "[1, 2, 3, 4, 4, 4]\n"
          ]
        }
      ],
      "source": [
        "list_one = [1, 2, 3]\n",
        "\n",
        "def function(ele):\n",
        "  list_one.append(ele)\n",
        "  return (list_one)\n",
        "\n",
        "print(function(4))\n",
        "print(function(4))\n",
        "print(function(4))"
      ]
    },
    {
      "cell_type": "markdown",
      "source": [
        "This is not a pure function"
      ],
      "metadata": {
        "id": "BQgXudh02Qi-"
      }
    },
    {
      "cell_type": "code",
      "source": [
        "list_one = [1, 2, 3]\n",
        "\n",
        "def function(ele):\n",
        "  return (ele in list_one)\n",
        "\n",
        "print(function(4))\n",
        "print(function(4))\n",
        "print(function(4))"
      ],
      "metadata": {
        "colab": {
          "base_uri": "https://localhost:8080/"
        },
        "id": "2F-QBWFq8wDQ",
        "outputId": "47b8d6dd-831f-4d09-fa55-314f90700923"
      },
      "execution_count": 6,
      "outputs": [
        {
          "output_type": "stream",
          "name": "stdout",
          "text": [
            "False\n",
            "False\n",
            "False\n"
          ]
        }
      ]
    },
    {
      "cell_type": "markdown",
      "source": [
        "This is a pure function"
      ],
      "metadata": {
        "id": "kW-qsE9P2Q7e"
      }
    },
    {
      "cell_type": "code",
      "source": [
        "list_one = [1, 2, 3]\n",
        "\n",
        "def function(ele, list_test):\n",
        "  return (ele in list_test)\n",
        "\n",
        "print(function(4, list_one))\n",
        "print(function(4, list_one))\n",
        "print(function(4, list_one))"
      ],
      "metadata": {
        "colab": {
          "base_uri": "https://localhost:8080/"
        },
        "id": "O-7_2mdI2RU2",
        "outputId": "afa0da2a-12fb-4c6f-acbb-178ed600760a"
      },
      "execution_count": 7,
      "outputs": [
        {
          "output_type": "stream",
          "name": "stdout",
          "text": [
            "False\n",
            "False\n",
            "False\n"
          ]
        }
      ]
    },
    {
      "cell_type": "markdown",
      "source": [
        "* Benefits of Pure Functions\n",
        "  * Easy to understand and modify\n",
        "  * Confirm the integrity of available data while code is up\n",
        "* Disadvantages of Pure Functions\n",
        "  * Can't use these kind of functions for manipulate any sources(database)"
      ],
      "metadata": {
        "id": "zenHjfae3Pzs"
      }
    }
  ]
}
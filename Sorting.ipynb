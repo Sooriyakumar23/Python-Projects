{
  "nbformat": 4,
  "nbformat_minor": 0,
  "metadata": {
    "colab": {
      "provenance": [],
      "gpuType": "T4"
    },
    "kernelspec": {
      "name": "python3",
      "display_name": "Python 3"
    },
    "language_info": {
      "name": "python"
    },
    "accelerator": "GPU"
  },
  "cells": [
    {
      "cell_type": "markdown",
      "source": [
        "#Bubble Sort"
      ],
      "metadata": {
        "id": "77wEPxan-foG"
      }
    },
    {
      "cell_type": "markdown",
      "source": [
        "* Iterate & Push the big element to the last of the list"
      ],
      "metadata": {
        "id": "Z3CafXzuGPD-"
      }
    },
    {
      "cell_type": "code",
      "source": [
        "unsorted = [900, 800, 700, 600, 500, 400, 300, 200, 100]"
      ],
      "metadata": {
        "id": "VqSz6gxiFDsl"
      },
      "execution_count": 32,
      "outputs": []
    },
    {
      "cell_type": "code",
      "execution_count": 33,
      "metadata": {
        "colab": {
          "base_uri": "https://localhost:8080/"
        },
        "id": "Ap5vZDi8-av0",
        "outputId": "41992e67-a1f6-4bde-903b-d52573befba1"
      },
      "outputs": [
        {
          "output_type": "stream",
          "name": "stdout",
          "text": [
            "[100, 200, 300, 400, 500, 600, 700, 800, 900]\n"
          ]
        }
      ],
      "source": [
        "for i in range(len(unsorted)):\n",
        "  for j in range(len(unsorted)-i-1):\n",
        "    if (unsorted[j] > unsorted[j+1]):\n",
        "      temp = unsorted[j]\n",
        "      unsorted[j] = unsorted[j+1]\n",
        "      unsorted[j+1] = temp\n",
        "\n",
        "print (unsorted)"
      ]
    },
    {
      "cell_type": "markdown",
      "source": [
        "Time Complexity = O($n^2$)"
      ],
      "metadata": {
        "id": "65MhhNJkKbTb"
      }
    },
    {
      "cell_type": "markdown",
      "source": [
        "#Selection Sort"
      ],
      "metadata": {
        "id": "0WWk51sn-gIa"
      }
    },
    {
      "cell_type": "markdown",
      "source": [
        "*  Iterate & Pop the smallest element in the list\n",
        "* Initially, an empty list is created & in each iteration the smallest value in the original list will be removed there and append in new list"
      ],
      "metadata": {
        "id": "LCfszVD0GdP6"
      }
    },
    {
      "cell_type": "code",
      "source": [
        "unsorted = [900, 800, 700, 600, 500, 400, 300, 200, 100]"
      ],
      "metadata": {
        "id": "wB0mTG6WEMrb"
      },
      "execution_count": 36,
      "outputs": []
    },
    {
      "cell_type": "code",
      "source": [
        "sorted = []\n",
        "\n",
        "while (len(unsorted)>0):\n",
        "  min_element = unsorted[0]\n",
        "  for j in unsorted:\n",
        "    if (j < min_element):\n",
        "      min_element = j\n",
        "  unsorted.pop(unsorted.index(min_element))\n",
        "  sorted.append(min_element)\n",
        "\n",
        "print (unsorted)\n",
        "print (sorted)"
      ],
      "metadata": {
        "colab": {
          "base_uri": "https://localhost:8080/"
        },
        "id": "v_Aeg2GS-gvz",
        "outputId": "17bc56a7-860a-4f0f-bfdf-441a6f9fdb55"
      },
      "execution_count": 37,
      "outputs": [
        {
          "output_type": "stream",
          "name": "stdout",
          "text": [
            "[]\n",
            "[100, 200, 300, 400, 500, 600, 700, 800, 900]\n"
          ]
        }
      ]
    },
    {
      "cell_type": "markdown",
      "source": [
        "Time Complexity = O($n^2$)"
      ],
      "metadata": {
        "id": "X_juINJ9K5on"
      }
    },
    {
      "cell_type": "markdown",
      "source": [
        "#Insertion Sort"
      ],
      "metadata": {
        "id": "5q9V4eQc-ha-"
      }
    },
    {
      "cell_type": "markdown",
      "source": [
        "* Iterate & Shift the small element in the list to the same list partially sorted position\n",
        "* Insertion & Selection maybe confusing due to looking similar but actually both are different. In Selection Sort a new list will be created but in case of Insertion Sort the same list is used to arrange to"
      ],
      "metadata": {
        "id": "bsFsEgBxHCxm"
      }
    }
  ]
}